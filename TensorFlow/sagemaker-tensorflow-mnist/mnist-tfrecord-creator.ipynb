{
 "cells": [
  {
   "cell_type": "code",
   "execution_count": 2,
   "metadata": {},
   "outputs": [],
   "source": [
    "# Copyright 2019 Google Inc. All Rights Reserved.\n",
    "#\n",
    "# Licensed under the Apache License, Version 2.0 (the \"License\");\n",
    "# you may not use this file except in compliance with the License.\n",
    "# You may obtain a copy of the License at\n",
    "#\n",
    "#      http://www.apache.org/licenses/LICENSE-2.0\n",
    "#\n",
    "# Unless required by applicable law or agreed to in writing, software\n",
    "# distributed under the License is distributed on an \"AS IS\" BASIS,\n",
    "# WITHOUT WARRANTIES OR CONDITIONS OF ANY KIND, either express or implied.\n",
    "# See the License for the specific language governing permissions and\n",
    "# limitations under the License."
   ]
  },
  {
   "cell_type": "markdown",
   "metadata": {},
   "source": [
    "# MNIST TFRecord Creator\n",
    "\n",
    "This notebook will create TFRecords from the MNIST dataset included with Keras and then upload them to S3 so that they can be used to train a TensorFlow model using Amazon Sagemaker"
   ]
  },
  {
   "cell_type": "code",
   "execution_count": 4,
   "metadata": {},
   "outputs": [],
   "source": [
    "import os\n",
    "import numpy as np\n",
    "import sagemaker\n",
    "from keras.datasets import mnist\n",
    "import tensorflow as tf\n",
    "tf.enable_eager_execution()\n",
    "role = sagemaker.get_execution_role() "
   ]
  },
  {
   "cell_type": "markdown",
   "metadata": {},
   "source": [
    "## Sagemaker Specific Setup and Config"
   ]
  },
  {
   "cell_type": "code",
   "execution_count": 5,
   "metadata": {},
   "outputs": [],
   "source": [
    "def load_mnist_data():   \n",
    "    (x_train, y_train), (x_test, y_test) = mnist.load_data()\n",
    "    x_train = np.reshape(x_train, [-1, 28,28,1])\n",
    "    x_test = np.reshape(x_test, [-1, 28,28,1])\n",
    "    train_data = {'images':x_train, 'labels':y_train}\n",
    "    test_data = {'images':x_test, 'labels':y_test}\n",
    "    return train_data, test_data"
   ]
  },
  {
   "cell_type": "code",
   "execution_count": 6,
   "metadata": {},
   "outputs": [],
   "source": [
    "def export_tfrecords(data_set, name, directory):\n",
    "    \"\"\"Converts MNIST dataset to tfrecords.\n",
    "    \n",
    "    Args:\n",
    "        data_set: Dictionary containing a numpy array of images and labels.\n",
    "        name: Name given to the exported tfrecord dataset.\n",
    "        directory: Directory that the tfrecord files will be saved in.\n",
    "    \"\"\"\n",
    "    def _int64_feature(value):\n",
    "        return tf.train.Feature(int64_list=tf.train.Int64List(value=[value]))\n",
    "\n",
    "\n",
    "    def _bytes_feature(value):\n",
    "        return tf.train.Feature(bytes_list=tf.train.BytesList(value=[value]))\n",
    "    \n",
    "    images = data_set['images']\n",
    "    labels = data_set['labels']\n",
    "    num_examples = images.shape[0]  \n",
    "    rows = images.shape[1]\n",
    "    cols = images.shape[2]\n",
    "    depth = images.shape[3]\n",
    "\n",
    "    filename = os.path.join(directory, name + '.tfrecords')\n",
    "    print('Writing', filename)\n",
    "   \n",
    "    writer = tf.python_io.TFRecordWriter(filename)\n",
    "    for index in range(num_examples):\n",
    "        image_raw = images[index].tostring()\n",
    "        example = tf.train.Example(features=tf.train.Features(feature={\n",
    "            'height': _int64_feature(rows),\n",
    "            'width': _int64_feature(cols),\n",
    "            'depth': _int64_feature(depth),\n",
    "            'label': _int64_feature(int(labels[index])),\n",
    "            'image_raw': _bytes_feature(image_raw)}))\n",
    "        writer.write(example.SerializeToString())\n",
    "    writer.close()"
   ]
  },
  {
   "cell_type": "code",
   "execution_count": 7,
   "metadata": {},
   "outputs": [],
   "source": [
    "train_data, test_data = load_mnist_data()"
   ]
  },
  {
   "cell_type": "markdown",
   "metadata": {},
   "source": [
    "# Create MNIST Data locally\n"
   ]
  },
  {
   "cell_type": "code",
   "execution_count": 8,
   "metadata": {},
   "outputs": [
    {
     "name": "stdout",
     "output_type": "stream",
     "text": [
      "Writing ./data/train/mnist_train.tfrecords\n",
      "Writing ./data/test/mnist_test.tfrecords\n"
     ]
    }
   ],
   "source": [
    "os.makedirs('./data/train/', exist_ok=True)\n",
    "os.makedirs('./data/test/', exist_ok=True)\n",
    "\n",
    "export_tfrecords(train_data, \"mnist_train\",\"./data/train\")\n",
    "export_tfrecords(test_data, \"mnist_test\",\"./data/test\")"
   ]
  },
  {
   "cell_type": "markdown",
   "metadata": {},
   "source": [
    "# Upload MNIST Data to S3"
   ]
  },
  {
   "cell_type": "code",
   "execution_count": 10,
   "metadata": {},
   "outputs": [
    {
     "name": "stdout",
     "output_type": "stream",
     "text": [
      "Training data uploaded to s3://sagemaker-us-east-2-708267171719/sagemaker/ml-model-migration/data/mnist/train\n",
      "Test data uploaded to s3://sagemaker-us-east-2-708267171719/sagemaker/ml-model-migration/data/mnist/test\n"
     ]
    }
   ],
   "source": [
    "bucket = sagemaker.Session().default_bucket()\n",
    "prefix = 'sagemaker/ml-model-migration'\n",
    "train_data=sagemaker.Session().upload_data(path='./data/train', bucket=bucket, key_prefix=prefix+'/data/mnist/train')\n",
    "test_data=sagemaker.Session().upload_data(path='./data/train', bucket=bucket, key_prefix=prefix+'/data/mnist/test')\n",
    "print(\"Training data uploaded to {}\".format(train_data))\n",
    "print(\"Test data uploaded to {}\".format(test_data))"
   ]
  },
  {
   "cell_type": "code",
   "execution_count": null,
   "metadata": {},
   "outputs": [],
   "source": []
  }
 ],
 "metadata": {
  "kernelspec": {
   "display_name": "conda_tensorflow_p36",
   "language": "python",
   "name": "conda_tensorflow_p36"
  },
  "language_info": {
   "codemirror_mode": {
    "name": "ipython",
    "version": 3
   },
   "file_extension": ".py",
   "mimetype": "text/x-python",
   "name": "python",
   "nbconvert_exporter": "python",
   "pygments_lexer": "ipython3",
   "version": "3.6.5"
  }
 },
 "nbformat": 4,
 "nbformat_minor": 2
}
